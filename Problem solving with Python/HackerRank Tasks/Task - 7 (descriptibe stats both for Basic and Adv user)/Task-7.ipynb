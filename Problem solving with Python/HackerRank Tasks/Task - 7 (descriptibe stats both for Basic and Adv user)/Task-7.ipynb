{
 "cells": [
  {
   "cell_type": "markdown",
   "id": "3d9655e0",
   "metadata": {},
   "source": [
    "# Descriptive Statistics and Python Implementation😧"
   ]
  },
  {
   "cell_type": "markdown",
   "id": "9e555a28",
   "metadata": {},
   "source": [
    "**Write a Jupyter Notebook explaining all the Descriptive Statistics.**\n",
    "1. Mean\n",
    "2. Median\n",
    "3. Mode\n",
    "4. Variance\n",
    "5. Standard Deviation\n",
    "6. Correlation\n",
    "7. Normal Distribution (use references)\n",
    "8. Feature of Normal Distribution\n",
    "9. Positively Skewed & Negatively Skewed Normal Distribution\n",
    "10. Effect on Mean, Median and Mode due to Skewness\n",
    "11. Explain QQ Plot and show the implementation of the same\n",
    "12. Explain Box Cox and show the implementation of the same"
   ]
  },
  {
   "cell_type": "markdown",
   "id": "43ef199a",
   "metadata": {},
   "source": [
    "Dataset Link: https://drive.google.com/file/d/1l040PTRmQ9fw5VULbwG-qM6P2A5xZIBQ/edit"
   ]
  },
  {
   "cell_type": "code",
   "execution_count": 1,
   "id": "ef5bea70",
   "metadata": {},
   "outputs": [],
   "source": [
    "#importing requirements\n",
    "import pandas as pd\n",
    "import numpy as np\n",
    "\n",
    "import matplotlib.pyplot as plt\n",
    "import seaborn as sns\n",
    "\n",
    "from warnings import filterwarnings\n",
    "filterwarnings(\"ignore\")\n",
    "\n",
    "from scipy import stats     "
   ]
  },
  {
   "cell_type": "code",
   "execution_count": 2,
   "id": "d3832e6f",
   "metadata": {},
   "outputs": [
    {
     "data": {
      "text/html": [
       "<div>\n",
       "<style scoped>\n",
       "    .dataframe tbody tr th:only-of-type {\n",
       "        vertical-align: middle;\n",
       "    }\n",
       "\n",
       "    .dataframe tbody tr th {\n",
       "        vertical-align: top;\n",
       "    }\n",
       "\n",
       "    .dataframe thead th {\n",
       "        text-align: right;\n",
       "    }\n",
       "</style>\n",
       "<table border=\"1\" class=\"dataframe\">\n",
       "  <thead>\n",
       "    <tr style=\"text-align: right;\">\n",
       "      <th></th>\n",
       "      <th>Mthly_HH_Income</th>\n",
       "      <th>Mthly_HH_Expense</th>\n",
       "      <th>No_of_Fly_Members</th>\n",
       "      <th>Emi_or_Rent_Amt</th>\n",
       "      <th>Annual_HH_Income</th>\n",
       "      <th>Highest_Qualified_Member</th>\n",
       "      <th>No_of_Earning_Members</th>\n",
       "    </tr>\n",
       "  </thead>\n",
       "  <tbody>\n",
       "    <tr>\n",
       "      <th>0</th>\n",
       "      <td>5000</td>\n",
       "      <td>8000</td>\n",
       "      <td>3</td>\n",
       "      <td>2000</td>\n",
       "      <td>64200</td>\n",
       "      <td>Under-Graduate</td>\n",
       "      <td>1</td>\n",
       "    </tr>\n",
       "    <tr>\n",
       "      <th>1</th>\n",
       "      <td>6000</td>\n",
       "      <td>7000</td>\n",
       "      <td>2</td>\n",
       "      <td>3000</td>\n",
       "      <td>79920</td>\n",
       "      <td>Illiterate</td>\n",
       "      <td>1</td>\n",
       "    </tr>\n",
       "    <tr>\n",
       "      <th>2</th>\n",
       "      <td>10000</td>\n",
       "      <td>4500</td>\n",
       "      <td>2</td>\n",
       "      <td>0</td>\n",
       "      <td>112800</td>\n",
       "      <td>Under-Graduate</td>\n",
       "      <td>1</td>\n",
       "    </tr>\n",
       "    <tr>\n",
       "      <th>3</th>\n",
       "      <td>10000</td>\n",
       "      <td>2000</td>\n",
       "      <td>1</td>\n",
       "      <td>0</td>\n",
       "      <td>97200</td>\n",
       "      <td>Illiterate</td>\n",
       "      <td>1</td>\n",
       "    </tr>\n",
       "    <tr>\n",
       "      <th>4</th>\n",
       "      <td>12500</td>\n",
       "      <td>12000</td>\n",
       "      <td>2</td>\n",
       "      <td>3000</td>\n",
       "      <td>147000</td>\n",
       "      <td>Graduate</td>\n",
       "      <td>1</td>\n",
       "    </tr>\n",
       "  </tbody>\n",
       "</table>\n",
       "</div>"
      ],
      "text/plain": [
       "   Mthly_HH_Income  Mthly_HH_Expense  No_of_Fly_Members  Emi_or_Rent_Amt  \\\n",
       "0             5000              8000                  3             2000   \n",
       "1             6000              7000                  2             3000   \n",
       "2            10000              4500                  2                0   \n",
       "3            10000              2000                  1                0   \n",
       "4            12500             12000                  2             3000   \n",
       "\n",
       "   Annual_HH_Income Highest_Qualified_Member  No_of_Earning_Members  \n",
       "0             64200           Under-Graduate                      1  \n",
       "1             79920               Illiterate                      1  \n",
       "2            112800           Under-Graduate                      1  \n",
       "3             97200               Illiterate                      1  \n",
       "4            147000                 Graduate                      1  "
      ]
     },
     "execution_count": 2,
     "metadata": {},
     "output_type": "execute_result"
    }
   ],
   "source": [
    "#loading dataset\n",
    "df = pd.read_csv(\"data/data.csv\")\n",
    "df.head()"
   ]
  },
  {
   "cell_type": "code",
   "execution_count": 3,
   "id": "b2dbc9de",
   "metadata": {},
   "outputs": [
    {
     "name": "stdout",
     "output_type": "stream",
     "text": [
      "<class 'pandas.core.frame.DataFrame'>\n",
      "RangeIndex: 50 entries, 0 to 49\n",
      "Data columns (total 7 columns):\n",
      " #   Column                    Non-Null Count  Dtype \n",
      "---  ------                    --------------  ----- \n",
      " 0   Mthly_HH_Income           50 non-null     int64 \n",
      " 1   Mthly_HH_Expense          50 non-null     int64 \n",
      " 2   No_of_Fly_Members         50 non-null     int64 \n",
      " 3   Emi_or_Rent_Amt           50 non-null     int64 \n",
      " 4   Annual_HH_Income          50 non-null     int64 \n",
      " 5   Highest_Qualified_Member  50 non-null     object\n",
      " 6   No_of_Earning_Members     50 non-null     int64 \n",
      "dtypes: int64(6), object(1)\n",
      "memory usage: 2.9+ KB\n"
     ]
    }
   ],
   "source": [
    "df.info()"
   ]
  },
  {
   "cell_type": "code",
   "execution_count": 4,
   "id": "bc05fd67",
   "metadata": {},
   "outputs": [
    {
     "data": {
      "text/html": [
       "<div>\n",
       "<style scoped>\n",
       "    .dataframe tbody tr th:only-of-type {\n",
       "        vertical-align: middle;\n",
       "    }\n",
       "\n",
       "    .dataframe tbody tr th {\n",
       "        vertical-align: top;\n",
       "    }\n",
       "\n",
       "    .dataframe thead th {\n",
       "        text-align: right;\n",
       "    }\n",
       "</style>\n",
       "<table border=\"1\" class=\"dataframe\">\n",
       "  <thead>\n",
       "    <tr style=\"text-align: right;\">\n",
       "      <th></th>\n",
       "      <th>M_INCOME</th>\n",
       "      <th>M_EXPENSE</th>\n",
       "      <th>MEMBERS</th>\n",
       "      <th>AMOUNT</th>\n",
       "      <th>A_INCOME</th>\n",
       "      <th>QUALIFICATION</th>\n",
       "      <th>EARNING</th>\n",
       "    </tr>\n",
       "  </thead>\n",
       "  <tbody>\n",
       "    <tr>\n",
       "      <th>0</th>\n",
       "      <td>5000</td>\n",
       "      <td>8000</td>\n",
       "      <td>3</td>\n",
       "      <td>2000</td>\n",
       "      <td>64200</td>\n",
       "      <td>Under-Graduate</td>\n",
       "      <td>1</td>\n",
       "    </tr>\n",
       "    <tr>\n",
       "      <th>1</th>\n",
       "      <td>6000</td>\n",
       "      <td>7000</td>\n",
       "      <td>2</td>\n",
       "      <td>3000</td>\n",
       "      <td>79920</td>\n",
       "      <td>Illiterate</td>\n",
       "      <td>1</td>\n",
       "    </tr>\n",
       "    <tr>\n",
       "      <th>2</th>\n",
       "      <td>10000</td>\n",
       "      <td>4500</td>\n",
       "      <td>2</td>\n",
       "      <td>0</td>\n",
       "      <td>112800</td>\n",
       "      <td>Under-Graduate</td>\n",
       "      <td>1</td>\n",
       "    </tr>\n",
       "    <tr>\n",
       "      <th>3</th>\n",
       "      <td>10000</td>\n",
       "      <td>2000</td>\n",
       "      <td>1</td>\n",
       "      <td>0</td>\n",
       "      <td>97200</td>\n",
       "      <td>Illiterate</td>\n",
       "      <td>1</td>\n",
       "    </tr>\n",
       "    <tr>\n",
       "      <th>4</th>\n",
       "      <td>12500</td>\n",
       "      <td>12000</td>\n",
       "      <td>2</td>\n",
       "      <td>3000</td>\n",
       "      <td>147000</td>\n",
       "      <td>Graduate</td>\n",
       "      <td>1</td>\n",
       "    </tr>\n",
       "  </tbody>\n",
       "</table>\n",
       "</div>"
      ],
      "text/plain": [
       "   M_INCOME  M_EXPENSE  MEMBERS  AMOUNT  A_INCOME   QUALIFICATION  EARNING\n",
       "0      5000       8000        3    2000     64200  Under-Graduate        1\n",
       "1      6000       7000        2    3000     79920      Illiterate        1\n",
       "2     10000       4500        2       0    112800  Under-Graduate        1\n",
       "3     10000       2000        1       0     97200      Illiterate        1\n",
       "4     12500      12000        2    3000    147000        Graduate        1"
      ]
     },
     "execution_count": 4,
     "metadata": {},
     "output_type": "execute_result"
    }
   ],
   "source": [
    "df = df.rename(columns={\"Mthly_HH_Income\": \"M_INCOME\", \"Mthly_HH_Expense\": \"M_EXPENSE\", \"No_of_Fly_Members\": \"MEMBERS\", \"Emi_or_Rent_Amt\": \"AMOUNT\",\"Annual_HH_Income\": \"A_INCOME\", \"Highest_Qualified_Member\": \"QUALIFICATION\", \"No_of_Earning_Members\": \"EARNING\" })\n",
    "df.head(5)"
   ]
  },
  {
   "cell_type": "code",
   "execution_count": 5,
   "id": "d360af5b",
   "metadata": {},
   "outputs": [
    {
     "data": {
      "text/plain": [
       "(50, 7)"
      ]
     },
     "execution_count": 5,
     "metadata": {},
     "output_type": "execute_result"
    }
   ],
   "source": [
    "df.shape"
   ]
  },
  {
   "cell_type": "code",
   "execution_count": 6,
   "id": "369420e2",
   "metadata": {},
   "outputs": [
    {
     "data": {
      "text/plain": [
       "M_INCOME         50\n",
       "M_EXPENSE        50\n",
       "MEMBERS          50\n",
       "AMOUNT           50\n",
       "A_INCOME         50\n",
       "QUALIFICATION    50\n",
       "EARNING          50\n",
       "dtype: int64"
      ]
     },
     "execution_count": 6,
     "metadata": {},
     "output_type": "execute_result"
    }
   ],
   "source": [
    "df.count()"
   ]
  },
  {
   "cell_type": "code",
   "execution_count": 7,
   "id": "6465505b",
   "metadata": {},
   "outputs": [
    {
     "data": {
      "text/html": [
       "<div>\n",
       "<style scoped>\n",
       "    .dataframe tbody tr th:only-of-type {\n",
       "        vertical-align: middle;\n",
       "    }\n",
       "\n",
       "    .dataframe tbody tr th {\n",
       "        vertical-align: top;\n",
       "    }\n",
       "\n",
       "    .dataframe thead th {\n",
       "        text-align: right;\n",
       "    }\n",
       "</style>\n",
       "<table border=\"1\" class=\"dataframe\">\n",
       "  <thead>\n",
       "    <tr style=\"text-align: right;\">\n",
       "      <th></th>\n",
       "      <th>M_INCOME</th>\n",
       "      <th>M_EXPENSE</th>\n",
       "      <th>MEMBERS</th>\n",
       "      <th>AMOUNT</th>\n",
       "      <th>A_INCOME</th>\n",
       "      <th>EARNING</th>\n",
       "    </tr>\n",
       "  </thead>\n",
       "  <tbody>\n",
       "    <tr>\n",
       "      <th>count</th>\n",
       "      <td>50.000000</td>\n",
       "      <td>50.000000</td>\n",
       "      <td>50.000000</td>\n",
       "      <td>50.000000</td>\n",
       "      <td>5.000000e+01</td>\n",
       "      <td>50.000000</td>\n",
       "    </tr>\n",
       "    <tr>\n",
       "      <th>mean</th>\n",
       "      <td>41558.000000</td>\n",
       "      <td>18818.000000</td>\n",
       "      <td>4.060000</td>\n",
       "      <td>3060.000000</td>\n",
       "      <td>4.900190e+05</td>\n",
       "      <td>1.460000</td>\n",
       "    </tr>\n",
       "    <tr>\n",
       "      <th>std</th>\n",
       "      <td>26097.908979</td>\n",
       "      <td>12090.216824</td>\n",
       "      <td>1.517382</td>\n",
       "      <td>6241.434948</td>\n",
       "      <td>3.201358e+05</td>\n",
       "      <td>0.734291</td>\n",
       "    </tr>\n",
       "    <tr>\n",
       "      <th>min</th>\n",
       "      <td>5000.000000</td>\n",
       "      <td>2000.000000</td>\n",
       "      <td>1.000000</td>\n",
       "      <td>0.000000</td>\n",
       "      <td>6.420000e+04</td>\n",
       "      <td>1.000000</td>\n",
       "    </tr>\n",
       "    <tr>\n",
       "      <th>25%</th>\n",
       "      <td>23550.000000</td>\n",
       "      <td>10000.000000</td>\n",
       "      <td>3.000000</td>\n",
       "      <td>0.000000</td>\n",
       "      <td>2.587500e+05</td>\n",
       "      <td>1.000000</td>\n",
       "    </tr>\n",
       "    <tr>\n",
       "      <th>50%</th>\n",
       "      <td>35000.000000</td>\n",
       "      <td>15500.000000</td>\n",
       "      <td>4.000000</td>\n",
       "      <td>0.000000</td>\n",
       "      <td>4.474200e+05</td>\n",
       "      <td>1.000000</td>\n",
       "    </tr>\n",
       "    <tr>\n",
       "      <th>75%</th>\n",
       "      <td>50375.000000</td>\n",
       "      <td>25000.000000</td>\n",
       "      <td>5.000000</td>\n",
       "      <td>3500.000000</td>\n",
       "      <td>5.947200e+05</td>\n",
       "      <td>2.000000</td>\n",
       "    </tr>\n",
       "    <tr>\n",
       "      <th>max</th>\n",
       "      <td>100000.000000</td>\n",
       "      <td>50000.000000</td>\n",
       "      <td>7.000000</td>\n",
       "      <td>35000.000000</td>\n",
       "      <td>1.404000e+06</td>\n",
       "      <td>4.000000</td>\n",
       "    </tr>\n",
       "  </tbody>\n",
       "</table>\n",
       "</div>"
      ],
      "text/plain": [
       "            M_INCOME     M_EXPENSE    MEMBERS        AMOUNT      A_INCOME  \\\n",
       "count      50.000000     50.000000  50.000000     50.000000  5.000000e+01   \n",
       "mean    41558.000000  18818.000000   4.060000   3060.000000  4.900190e+05   \n",
       "std     26097.908979  12090.216824   1.517382   6241.434948  3.201358e+05   \n",
       "min      5000.000000   2000.000000   1.000000      0.000000  6.420000e+04   \n",
       "25%     23550.000000  10000.000000   3.000000      0.000000  2.587500e+05   \n",
       "50%     35000.000000  15500.000000   4.000000      0.000000  4.474200e+05   \n",
       "75%     50375.000000  25000.000000   5.000000   3500.000000  5.947200e+05   \n",
       "max    100000.000000  50000.000000   7.000000  35000.000000  1.404000e+06   \n",
       "\n",
       "         EARNING  \n",
       "count  50.000000  \n",
       "mean    1.460000  \n",
       "std     0.734291  \n",
       "min     1.000000  \n",
       "25%     1.000000  \n",
       "50%     1.000000  \n",
       "75%     2.000000  \n",
       "max     4.000000  "
      ]
     },
     "execution_count": 7,
     "metadata": {},
     "output_type": "execute_result"
    }
   ],
   "source": [
    "df.describe()"
   ]
  },
  {
   "cell_type": "markdown",
   "id": "88ff3994",
   "metadata": {},
   "source": [
    "**Mean**: mean is the total of the sum of all values in a collection of numbers divided by the number of numbers in a collection."
   ]
  },
  {
   "cell_type": "markdown",
   "id": "44aa752f",
   "metadata": {},
   "source": [
    "Finding mean with library function"
   ]
  },
  {
   "cell_type": "code",
   "execution_count": 10,
   "id": "2cbe8548",
   "metadata": {},
   "outputs": [
    {
     "data": {
      "text/plain": [
       "M_INCOME      41558.00\n",
       "M_EXPENSE     18818.00\n",
       "MEMBERS           4.06\n",
       "AMOUNT         3060.00\n",
       "A_INCOME     490019.04\n",
       "EARNING           1.46\n",
       "dtype: float64"
      ]
     },
     "execution_count": 10,
     "metadata": {},
     "output_type": "execute_result"
    }
   ],
   "source": [
    "#Finding mean with library function \n",
    "df.mean()"
   ]
  },
  {
   "cell_type": "markdown",
   "id": "84095aa2",
   "metadata": {},
   "source": [
    "- Finding median with formula"
   ]
  },
  {
   "cell_type": "code",
   "execution_count": 11,
   "id": "ba02df6c",
   "metadata": {},
   "outputs": [
    {
     "data": {
      "text/plain": [
       "M_INCOME      41558.00\n",
       "M_EXPENSE     18818.00\n",
       "MEMBERS           4.06\n",
       "AMOUNT         3060.00\n",
       "A_INCOME     490019.04\n",
       "EARNING           1.46\n",
       "dtype: float64"
      ]
     },
     "execution_count": 11,
     "metadata": {},
     "output_type": "execute_result"
    }
   ],
   "source": [
    "mean1= df.sum()/df.count() \n",
    "mean1"
   ]
  },
  {
   "cell_type": "markdown",
   "id": "8924b591",
   "metadata": {},
   "source": [
    "**MEDIAN**: The middle number found by ordering all data points and picking out the one in the middle (or if there are two middle numbers, taking the mean of those two numbers)."
   ]
  },
  {
   "cell_type": "markdown",
   "id": "7fa7dcc6",
   "metadata": {},
   "source": [
    "- Finding median with library function"
   ]
  },
  {
   "cell_type": "code",
   "execution_count": 12,
   "id": "a04299fa",
   "metadata": {},
   "outputs": [
    {
     "data": {
      "text/plain": [
       "M_INCOME      35000.0\n",
       "M_EXPENSE     15500.0\n",
       "MEMBERS           4.0\n",
       "AMOUNT            0.0\n",
       "A_INCOME     447420.0\n",
       "EARNING           1.0\n",
       "dtype: float64"
      ]
     },
     "execution_count": 12,
     "metadata": {},
     "output_type": "execute_result"
    }
   ],
   "source": [
    "df.median()"
   ]
  },
  {
   "cell_type": "markdown",
   "id": "4236790b",
   "metadata": {},
   "source": [
    "- Finding median with formula"
   ]
  },
  {
   "cell_type": "code",
   "execution_count": 10,
   "id": "69846c9b",
   "metadata": {},
   "outputs": [
    {
     "data": {
      "text/html": [
       "<div>\n",
       "<style scoped>\n",
       "    .dataframe tbody tr th:only-of-type {\n",
       "        vertical-align: middle;\n",
       "    }\n",
       "\n",
       "    .dataframe tbody tr th {\n",
       "        vertical-align: top;\n",
       "    }\n",
       "\n",
       "    .dataframe thead th {\n",
       "        text-align: right;\n",
       "    }\n",
       "</style>\n",
       "<table border=\"1\" class=\"dataframe\">\n",
       "  <thead>\n",
       "    <tr style=\"text-align: right;\">\n",
       "      <th></th>\n",
       "      <th>M_INCOME</th>\n",
       "      <th>M_EXPENSE</th>\n",
       "      <th>MEMBERS</th>\n",
       "      <th>AMOUNT</th>\n",
       "      <th>A_INCOME</th>\n",
       "      <th>QUALIFICATION</th>\n",
       "      <th>EARNING</th>\n",
       "    </tr>\n",
       "  </thead>\n",
       "  <tbody>\n",
       "    <tr>\n",
       "      <th>0</th>\n",
       "      <td>5000</td>\n",
       "      <td>8000</td>\n",
       "      <td>3</td>\n",
       "      <td>2000</td>\n",
       "      <td>64200</td>\n",
       "      <td>Under-Graduate</td>\n",
       "      <td>1</td>\n",
       "    </tr>\n",
       "    <tr>\n",
       "      <th>1</th>\n",
       "      <td>6000</td>\n",
       "      <td>7000</td>\n",
       "      <td>2</td>\n",
       "      <td>3000</td>\n",
       "      <td>79920</td>\n",
       "      <td>Illiterate</td>\n",
       "      <td>1</td>\n",
       "    </tr>\n",
       "    <tr>\n",
       "      <th>2</th>\n",
       "      <td>10000</td>\n",
       "      <td>4500</td>\n",
       "      <td>2</td>\n",
       "      <td>0</td>\n",
       "      <td>112800</td>\n",
       "      <td>Under-Graduate</td>\n",
       "      <td>1</td>\n",
       "    </tr>\n",
       "    <tr>\n",
       "      <th>3</th>\n",
       "      <td>10000</td>\n",
       "      <td>2000</td>\n",
       "      <td>1</td>\n",
       "      <td>0</td>\n",
       "      <td>97200</td>\n",
       "      <td>Illiterate</td>\n",
       "      <td>1</td>\n",
       "    </tr>\n",
       "    <tr>\n",
       "      <th>4</th>\n",
       "      <td>12500</td>\n",
       "      <td>12000</td>\n",
       "      <td>2</td>\n",
       "      <td>3000</td>\n",
       "      <td>147000</td>\n",
       "      <td>Graduate</td>\n",
       "      <td>1</td>\n",
       "    </tr>\n",
       "  </tbody>\n",
       "</table>\n",
       "</div>"
      ],
      "text/plain": [
       "   M_INCOME  M_EXPENSE  MEMBERS  AMOUNT  A_INCOME   QUALIFICATION  EARNING\n",
       "0      5000       8000        3    2000     64200  Under-Graduate        1\n",
       "1      6000       7000        2    3000     79920      Illiterate        1\n",
       "2     10000       4500        2       0    112800  Under-Graduate        1\n",
       "3     10000       2000        1       0     97200      Illiterate        1\n",
       "4     12500      12000        2    3000    147000        Graduate        1"
      ]
     },
     "execution_count": 10,
     "metadata": {},
     "output_type": "execute_result"
    }
   ],
   "source": [
    "df1 = df.apply(lambda x: x.sort_values().values)\n",
    "n=df1.count()\n",
    "n=int(n[0])\n",
    "df.head()"
   ]
  },
  {
   "cell_type": "code",
   "execution_count": 11,
   "id": "d959346c",
   "metadata": {},
   "outputs": [
    {
     "name": "stdout",
     "output_type": "stream",
     "text": [
      "M_INCOME 35000.0\n",
      "M_EXPENSE 15500.0\n",
      "MEMBERS 4.0\n",
      "AMOUNT 0.0\n",
      "A_INCOME 447420.0\n"
     ]
    },
    {
     "ename": "TypeError",
     "evalue": "unsupported operand type(s) for /: 'str' and 'int'",
     "output_type": "error",
     "traceback": [
      "\u001b[1;31m---------------------------------------------------------------------------\u001b[0m",
      "\u001b[1;31mTypeError\u001b[0m                                 Traceback (most recent call last)",
      "\u001b[1;32m~\\AppData\\Local\\Temp/ipykernel_3340/3321154708.py\u001b[0m in \u001b[0;36m<module>\u001b[1;34m\u001b[0m\n\u001b[0;32m      9\u001b[0m \u001b[1;33m\u001b[0m\u001b[0m\n\u001b[0;32m     10\u001b[0m         \u001b[0mmedian2\u001b[0m \u001b[1;33m=\u001b[0m \u001b[0mr\u001b[0m\u001b[1;33m[\u001b[0m\u001b[0mi\u001b[0m\u001b[1;33m]\u001b[0m\u001b[1;33m[\u001b[0m\u001b[0mn\u001b[0m\u001b[1;33m//\u001b[0m\u001b[1;36m2\u001b[0m \u001b[1;33m-\u001b[0m \u001b[1;36m1\u001b[0m\u001b[1;33m]\u001b[0m\u001b[1;33m\u001b[0m\u001b[1;33m\u001b[0m\u001b[0m\n\u001b[1;32m---> 11\u001b[1;33m         \u001b[0mmedian\u001b[0m \u001b[1;33m=\u001b[0m \u001b[1;33m(\u001b[0m\u001b[0mmedian1\u001b[0m \u001b[1;33m+\u001b[0m \u001b[0mmedian2\u001b[0m\u001b[1;33m)\u001b[0m\u001b[1;33m/\u001b[0m\u001b[1;36m2\u001b[0m\u001b[1;33m\u001b[0m\u001b[1;33m\u001b[0m\u001b[0m\n\u001b[0m\u001b[0;32m     12\u001b[0m     \u001b[1;32melse\u001b[0m\u001b[1;33m:\u001b[0m\u001b[1;33m\u001b[0m\u001b[1;33m\u001b[0m\u001b[0m\n\u001b[0;32m     13\u001b[0m         \u001b[0mmedian\u001b[0m \u001b[1;33m=\u001b[0m\u001b[0mr\u001b[0m\u001b[1;33m[\u001b[0m\u001b[0mi\u001b[0m\u001b[1;33m]\u001b[0m\u001b[1;33m[\u001b[0m\u001b[0mn\u001b[0m\u001b[1;33m//\u001b[0m\u001b[1;36m2\u001b[0m\u001b[1;33m]\u001b[0m\u001b[1;33m\u001b[0m\u001b[1;33m\u001b[0m\u001b[0m\n",
      "\u001b[1;31mTypeError\u001b[0m: unsupported operand type(s) for /: 'str' and 'int'"
     ]
    }
   ],
   "source": [
    "#using formula\n",
    "l=list(df1.columns)\n",
    "r=[]\n",
    "for i in range(6):\n",
    "    r.append(list(df1.iloc[0:,i]))\n",
    "for i in range(6):  \n",
    "    if n % 2 == 0:\n",
    "        median1 = r[i][n//2]\n",
    "\n",
    "        median2 = r[i][n//2 - 1]\n",
    "        median = (median1 + median2)/2\n",
    "    else:\n",
    "        median =r[i][n//2]\n",
    "\n",
    "    print(str(l[i]),(median))"
   ]
  },
  {
   "cell_type": "markdown",
   "id": "fc45cad7",
   "metadata": {},
   "source": [
    "**MODE**: The most frequent number—that is, the number that occurs the highest number of times."
   ]
  },
  {
   "cell_type": "markdown",
   "id": "55c6fba3",
   "metadata": {},
   "source": [
    "- Finding mode with library function"
   ]
  },
  {
   "cell_type": "code",
   "execution_count": 12,
   "id": "a6bac4c6",
   "metadata": {},
   "outputs": [
    {
     "data": {
      "text/html": [
       "<div>\n",
       "<style scoped>\n",
       "    .dataframe tbody tr th:only-of-type {\n",
       "        vertical-align: middle;\n",
       "    }\n",
       "\n",
       "    .dataframe tbody tr th {\n",
       "        vertical-align: top;\n",
       "    }\n",
       "\n",
       "    .dataframe thead th {\n",
       "        text-align: right;\n",
       "    }\n",
       "</style>\n",
       "<table border=\"1\" class=\"dataframe\">\n",
       "  <thead>\n",
       "    <tr style=\"text-align: right;\">\n",
       "      <th></th>\n",
       "      <th>M_INCOME</th>\n",
       "      <th>M_EXPENSE</th>\n",
       "      <th>MEMBERS</th>\n",
       "      <th>AMOUNT</th>\n",
       "      <th>A_INCOME</th>\n",
       "      <th>QUALIFICATION</th>\n",
       "      <th>EARNING</th>\n",
       "    </tr>\n",
       "  </thead>\n",
       "  <tbody>\n",
       "    <tr>\n",
       "      <th>0</th>\n",
       "      <td>45000</td>\n",
       "      <td>25000</td>\n",
       "      <td>4</td>\n",
       "      <td>0</td>\n",
       "      <td>590400</td>\n",
       "      <td>Graduate</td>\n",
       "      <td>1</td>\n",
       "    </tr>\n",
       "  </tbody>\n",
       "</table>\n",
       "</div>"
      ],
      "text/plain": [
       "   M_INCOME  M_EXPENSE  MEMBERS  AMOUNT  A_INCOME QUALIFICATION  EARNING\n",
       "0     45000      25000        4       0    590400      Graduate        1"
      ]
     },
     "execution_count": 12,
     "metadata": {},
     "output_type": "execute_result"
    }
   ],
   "source": [
    "df.mode()"
   ]
  },
  {
   "cell_type": "markdown",
   "id": "104ac883",
   "metadata": {},
   "source": [
    "- Finding mode with formula"
   ]
  },
  {
   "cell_type": "code",
   "execution_count": 13,
   "id": "1331d568",
   "metadata": {},
   "outputs": [
    {
     "name": "stdout",
     "output_type": "stream",
     "text": [
      "M_INCOME : 45000\n",
      "M_EXPENSE : 25000\n",
      "MEMBERS : 4\n",
      "AMOUNT : 0\n",
      "A_INCOME : 590400\n",
      "QUALIFICATION : Graduate\n"
     ]
    }
   ],
   "source": [
    "#without inbuilt function\n",
    "for i in range(6):\n",
    "    m=max(r[i],key=r[i].count)\n",
    "    print(str(l[i]),':',m)"
   ]
  },
  {
   "cell_type": "markdown",
   "id": "4d4eeaac",
   "metadata": {},
   "source": [
    "**VARIANCE**: The variance is a measure of variability. It is calculated by taking the average of squared deviations from the mean.\n",
    "\n",
    "- Finding variance with library function"
   ]
  },
  {
   "cell_type": "code",
   "execution_count": 18,
   "id": "e13047fe",
   "metadata": {},
   "outputs": [
    {
     "data": {
      "text/plain": [
       "M_INCOME     6.811009e+08\n",
       "M_EXPENSE    1.461733e+08\n",
       "MEMBERS      2.302449e+00\n",
       "AMOUNT       3.895551e+07\n",
       "A_INCOME     1.024869e+11\n",
       "EARNING      5.391837e-01\n",
       "dtype: float64"
      ]
     },
     "execution_count": 18,
     "metadata": {},
     "output_type": "execute_result"
    }
   ],
   "source": [
    "df.var()"
   ]
  },
  {
   "cell_type": "markdown",
   "id": "0c20fb08",
   "metadata": {},
   "source": [
    "- Finding variance using formula"
   ]
  },
  {
   "cell_type": "code",
   "execution_count": 20,
   "id": "c70ce033",
   "metadata": {},
   "outputs": [
    {
     "name": "stdout",
     "output_type": "stream",
     "text": [
      "[667478836.0, 143249876.0, 2.2563999999999984, 38176400.0, 100437186889.95831, 0.5284]\n"
     ]
    }
   ],
   "source": [
    "sum=0 \n",
    "v=[]\n",
    "mean1=list(df.sum()/df.count())\n",
    "for i in range(6):\n",
    "    for j in range(50):\n",
    "        sum=sum+(r[i][j]-mean1[i])**2\n",
    "    v.append(sum/n)\n",
    "    sum=0\n",
    "print(v)"
   ]
  },
  {
   "cell_type": "markdown",
   "id": "922927b5",
   "metadata": {},
   "source": [
    "**STANDARD DEVIATION**: It is a statistic that measures the dispersion of a dataset relative to its mean and is calculated as the square root of the variance.\n",
    "\n",
    "- Finding standard deviation with library function"
   ]
  },
  {
   "cell_type": "code",
   "execution_count": 22,
   "id": "ee8bc077",
   "metadata": {},
   "outputs": [
    {
     "data": {
      "text/plain": [
       "M_INCOME      26097.908979\n",
       "M_EXPENSE     12090.216824\n",
       "MEMBERS           1.517382\n",
       "AMOUNT         6241.434948\n",
       "A_INCOME     320135.792123\n",
       "EARNING           0.734291\n",
       "dtype: float64"
      ]
     },
     "execution_count": 22,
     "metadata": {},
     "output_type": "execute_result"
    }
   ],
   "source": [
    "df.std()"
   ]
  },
  {
   "cell_type": "code",
   "execution_count": 23,
   "id": "9bc613a1",
   "metadata": {},
   "outputs": [
    {
     "name": "stdout",
     "output_type": "stream",
     "text": [
      "[25835.611779092826, 11968.704023410388, 1.5021318184500314, 6178.705366013175, 316918.26531451027, 0.72691127381545]\n"
     ]
    }
   ],
   "source": [
    "import math\n",
    "sum=0\n",
    "m=[]\n",
    "mean1=list(df.sum()/df.count())\n",
    "for i in range(6):\n",
    "    for j in range(50):\n",
    "        sum=sum+(r[i][j]-mean1[i])**2\n",
    "    m.append(math.sqrt(sum/n))\n",
    "    sum=0\n",
    "print(m)"
   ]
  },
  {
   "cell_type": "markdown",
   "id": "bffe907b",
   "metadata": {},
   "source": [
    "**CORRELATION**: It is a statistical measure that expresses the extent to which two variables are linearly related (meaning they change together at a constant rate).\n",
    "\n",
    "- Finding correlation with library function."
   ]
  },
  {
   "cell_type": "code",
   "execution_count": 24,
   "id": "ea0e1e97",
   "metadata": {},
   "outputs": [
    {
     "data": {
      "text/html": [
       "<div>\n",
       "<style scoped>\n",
       "    .dataframe tbody tr th:only-of-type {\n",
       "        vertical-align: middle;\n",
       "    }\n",
       "\n",
       "    .dataframe tbody tr th {\n",
       "        vertical-align: top;\n",
       "    }\n",
       "\n",
       "    .dataframe thead th {\n",
       "        text-align: right;\n",
       "    }\n",
       "</style>\n",
       "<table border=\"1\" class=\"dataframe\">\n",
       "  <thead>\n",
       "    <tr style=\"text-align: right;\">\n",
       "      <th></th>\n",
       "      <th>M_INCOME</th>\n",
       "      <th>M_EXPENSE</th>\n",
       "      <th>MEMBERS</th>\n",
       "      <th>AMOUNT</th>\n",
       "      <th>A_INCOME</th>\n",
       "      <th>EARNING</th>\n",
       "    </tr>\n",
       "  </thead>\n",
       "  <tbody>\n",
       "    <tr>\n",
       "      <th>M_INCOME</th>\n",
       "      <td>1.000000</td>\n",
       "      <td>0.649215</td>\n",
       "      <td>0.448317</td>\n",
       "      <td>0.036976</td>\n",
       "      <td>0.970315</td>\n",
       "      <td>0.347883</td>\n",
       "    </tr>\n",
       "    <tr>\n",
       "      <th>M_EXPENSE</th>\n",
       "      <td>0.649215</td>\n",
       "      <td>1.000000</td>\n",
       "      <td>0.639702</td>\n",
       "      <td>0.405280</td>\n",
       "      <td>0.591222</td>\n",
       "      <td>0.311915</td>\n",
       "    </tr>\n",
       "    <tr>\n",
       "      <th>MEMBERS</th>\n",
       "      <td>0.448317</td>\n",
       "      <td>0.639702</td>\n",
       "      <td>1.000000</td>\n",
       "      <td>0.085808</td>\n",
       "      <td>0.430868</td>\n",
       "      <td>0.597482</td>\n",
       "    </tr>\n",
       "    <tr>\n",
       "      <th>AMOUNT</th>\n",
       "      <td>0.036976</td>\n",
       "      <td>0.405280</td>\n",
       "      <td>0.085808</td>\n",
       "      <td>1.000000</td>\n",
       "      <td>0.002716</td>\n",
       "      <td>-0.097431</td>\n",
       "    </tr>\n",
       "    <tr>\n",
       "      <th>A_INCOME</th>\n",
       "      <td>0.970315</td>\n",
       "      <td>0.591222</td>\n",
       "      <td>0.430868</td>\n",
       "      <td>0.002716</td>\n",
       "      <td>1.000000</td>\n",
       "      <td>0.296679</td>\n",
       "    </tr>\n",
       "    <tr>\n",
       "      <th>EARNING</th>\n",
       "      <td>0.347883</td>\n",
       "      <td>0.311915</td>\n",
       "      <td>0.597482</td>\n",
       "      <td>-0.097431</td>\n",
       "      <td>0.296679</td>\n",
       "      <td>1.000000</td>\n",
       "    </tr>\n",
       "  </tbody>\n",
       "</table>\n",
       "</div>"
      ],
      "text/plain": [
       "           M_INCOME  M_EXPENSE   MEMBERS    AMOUNT  A_INCOME   EARNING\n",
       "M_INCOME   1.000000   0.649215  0.448317  0.036976  0.970315  0.347883\n",
       "M_EXPENSE  0.649215   1.000000  0.639702  0.405280  0.591222  0.311915\n",
       "MEMBERS    0.448317   0.639702  1.000000  0.085808  0.430868  0.597482\n",
       "AMOUNT     0.036976   0.405280  0.085808  1.000000  0.002716 -0.097431\n",
       "A_INCOME   0.970315   0.591222  0.430868  0.002716  1.000000  0.296679\n",
       "EARNING    0.347883   0.311915  0.597482 -0.097431  0.296679  1.000000"
      ]
     },
     "execution_count": 24,
     "metadata": {},
     "output_type": "execute_result"
    }
   ],
   "source": [
    "df.corr()"
   ]
  },
  {
   "cell_type": "code",
   "execution_count": 25,
   "id": "5e6d17c5",
   "metadata": {},
   "outputs": [
    {
     "name": "stdout",
     "output_type": "stream",
     "text": [
      "Pearson Correlation Coefficient : 0.984269278598793\n"
     ]
    }
   ],
   "source": [
    "# Without Library Function\n",
    "\n",
    "x = r[0]\n",
    "y = r[1]\n",
    "\n",
    "x_mean = np.sum(x) / len(x)\n",
    "y_mean = np.sum(y) / len(y)\n",
    "\n",
    "cov_xy = [(i - x_mean) * (j - y_mean) for i,j in zip(x, y)]\n",
    "cov_xy = np.sum(cov_xy) / len(cov_xy)\n",
    "\n",
    "x_std = (np.sum([(i - x_mean)**2 for i in x]) / len(x)) ** 0.5\n",
    "y_std = (np.sum([(i - y_mean)**2 for i in y])/len(y)) ** 0.5\n",
    "correlation = cov_xy / (x_std * y_std)\n",
    "\n",
    "print('Pearson Correlation Coefficient :', correlation)"
   ]
  },
  {
   "cell_type": "markdown",
   "id": "0e44f150",
   "metadata": {},
   "source": [
    "**NORMAL DISTRIBUTION**: It is also known as the Gaussian distribution, is a probability distribution that is symmetric about the mean, showing that data near the mean are more frequent in occurrence than data far from the mean.\n",
    "\n",
    "- In graphical form, the normal distribution appears as a \"bell curve\"."
   ]
  },
  {
   "cell_type": "code",
   "execution_count": 27,
   "id": "b417726c",
   "metadata": {},
   "outputs": [
    {
     "data": {
      "image/png": "[encoded data removed]",
      "text/plain": [
       "<Figure size 432x288 with 1 Axes>"
      ]
     },
     "metadata": {},
     "output_type": "display_data"
    }
   ],
   "source": [
    "#Generating normal distribution\n",
    "norm_dist = np.random.normal(loc = 20, scale = 5, size=10000)\n",
    "sns.distplot(norm_dist)\n",
    "plt.show()"
   ]
  },
  {
   "cell_type": "code",
   "execution_count": 28,
   "id": "c71324c2",
   "metadata": {},
   "outputs": [
    {
     "name": "stdout",
     "output_type": "stream",
     "text": [
      "19.896679758258227 4.966949551658746\n"
     ]
    }
   ],
   "source": [
    "mu_norm_dist = norm_dist.mean()\n",
    "sigma_norm_dist = norm_dist.std()\n",
    "print(mu_norm_dist, sigma_norm_dist)"
   ]
  },
  {
   "cell_type": "code",
   "execution_count": 29,
   "id": "20a1c86a",
   "metadata": {},
   "outputs": [],
   "source": [
    "one_std_right = mu_norm_dist + (1 * sigma_norm_dist)\n",
    "one_std_left = mu_norm_dist - (1 * sigma_norm_dist)\n",
    "two_std_right = mu_norm_dist + (2 * sigma_norm_dist)\n",
    "two_std_left = mu_norm_dist - (2 * sigma_norm_dist)\n",
    "three_std_right = mu_norm_dist + (3 * sigma_norm_dist)\n",
    "three_std_left = mu_norm_dist - (3 * sigma_norm_dist)"
   ]
  },
  {
   "cell_type": "code",
   "execution_count": 30,
   "id": "a9b90201",
   "metadata": {},
   "outputs": [
    {
     "data": {
      "image/png": "[encoded data removed]",
      "text/plain": [
       "<Figure size 1440x720 with 1 Axes>"
      ]
     },
     "metadata": {},
     "output_type": "display_data"
    }
   ],
   "source": [
    "plt.figure(figsize=(20,10))\n",
    "sns.set_style(\"darkgrid\")\n",
    "sns.distplot(norm_dist)\n",
    "plt.axvline(mu_norm_dist, color='coral', label='Mean')\n",
    "plt.axvline(one_std_right, color='yellow', label='Mean + 1SD')\n",
    "plt.axvline(one_std_left, color='yellow', label='Mean - 1SD')\n",
    "plt.axvline(two_std_right, color='green', label='Mean + 2SD')\n",
    "plt.axvline(two_std_left, color='green', label='Mean - 2SD')\n",
    "plt.axvline(three_std_right, color='blue', label='Mean + 3SD')\n",
    "plt.axvline(three_std_left, color='blue', label='Mean - 3SD')\n",
    "plt.legend();"
   ]
  },
  {
   "cell_type": "markdown",
   "id": "433aff67",
   "metadata": {},
   "source": [
    "**THE EMPIRICAL RULE**: For all normal distributions, 68.2% of the observations will appear within plus or minus one standard deviation of the mean; 95.4% of the observations will fall within +/- two standard deviations; and 99.7% within +/- three standard deviations. This fact is sometimes referred to as the \"empirical rule,\" a heuristic that describes where most of the data in a normal distribution will appear.\n",
    "\n",
    "This means that data falling outside of three standard deviations (\"3-sigma\") would signify rare occurrences."
   ]
  },
  {
   "cell_type": "code",
   "execution_count": 31,
   "id": "e569e5e5",
   "metadata": {},
   "outputs": [
    {
     "name": "stdout",
     "output_type": "stream",
     "text": [
      "0.689\n",
      "0.9526\n",
      "0.9973\n"
     ]
    }
   ],
   "source": [
    "#68-95-99.7 Rule\n",
    "print(((one_std_left < norm_dist) & (norm_dist < one_std_right)).sum()/norm_dist.size)\n",
    "print(((two_std_left < norm_dist) & (norm_dist < two_std_right)).sum()/norm_dist.size)\n",
    "print(((three_std_left < norm_dist) & (norm_dist < three_std_right)).sum()/norm_dist.size)"
   ]
  },
  {
   "cell_type": "code",
   "execution_count": 33,
   "id": "357a80eb",
   "metadata": {},
   "outputs": [
    {
     "data": {
      "image/png": "[encoded data removed]",
      "text/plain": [
       "<Figure size 432x288 with 1 Axes>"
      ]
     },
     "metadata": {},
     "output_type": "display_data"
    }
   ],
   "source": [
    "uni_dist = np.random.uniform(low = 10, high = 40, size = (10000))\n",
    "sns.distplot(uni_dist)\n",
    "plt.show()"
   ]
  },
  {
   "cell_type": "code",
   "execution_count": 34,
   "id": "50046ab3",
   "metadata": {},
   "outputs": [],
   "source": [
    "df_new = pd.DataFrame({'uniform' : uni_dist,\n",
    "                  'normal' : norm_dist})"
   ]
  },
  {
   "cell_type": "markdown",
   "id": "2beceb87",
   "metadata": {},
   "source": [
    "**SKEWNESS**: It measures the degree of symmetry of a distribution. The normal distribution is symmetric and has a skewness of zero.\n",
    "\n",
    "Symmetric means one tail is the mirror image of other half. A left long tail known as left-skewed distribution also known as negative dristibution. A right long tail distribution known as right skewed distribution also known as positive distribution\n",
    "\n",
    "1. If skewness is less than -1 or greater than 1, the distribution is highly skewed.\n",
    "\n",
    "2. If skewness is between -1 and -0.5 or between 0.5 and 1, the distribution is moderately skewed.\n",
    "\n",
    "3. If skewness is between -0.5 and 0.5, the distribution is approximately symmetric."
   ]
  },
  {
   "cell_type": "code",
   "execution_count": 35,
   "id": "fc215c90",
   "metadata": {},
   "outputs": [
    {
     "data": {
      "text/plain": [
       "uniform    0.011035\n",
       "normal     0.005382\n",
       "dtype: float64"
      ]
     },
     "execution_count": 35,
     "metadata": {},
     "output_type": "execute_result"
    }
   ],
   "source": [
    "df_new.skew()"
   ]
  },
  {
   "cell_type": "code",
   "execution_count": 36,
   "id": "e360ba03",
   "metadata": {},
   "outputs": [
    {
     "data": {
      "text/plain": [
       "M_INCOME     0.924615\n",
       "M_EXPENSE    1.199461\n",
       "MEMBERS      0.113674\n",
       "AMOUNT       3.403680\n",
       "A_INCOME     1.192949\n",
       "EARNING      1.593301\n",
       "dtype: float64"
      ]
     },
     "execution_count": 36,
     "metadata": {},
     "output_type": "execute_result"
    }
   ],
   "source": [
    "##skewness for the first column\n",
    "df.skew()"
   ]
  },
  {
   "cell_type": "markdown",
   "id": "ae6e67a2",
   "metadata": {},
   "source": [
    "From the above we can see that the Emi_or_Rent_Amt column is highly skewed"
   ]
  },
  {
   "cell_type": "code",
   "execution_count": 37,
   "id": "703b91cd",
   "metadata": {},
   "outputs": [
    {
     "data": {
      "text/plain": [
       "<AxesSubplot:ylabel='Density'>"
      ]
     },
     "execution_count": 37,
     "metadata": {},
     "output_type": "execute_result"
    },
    {
     "data": {
      "image/png": "[encoded data removed]",
      "text/plain": [
       "<Figure size 432x288 with 1 Axes>"
      ]
     },
     "metadata": {},
     "output_type": "display_data"
    }
   ],
   "source": [
    "#we are plotting the distribution plot for the first column : Mthly_HH_Income\n",
    "\n",
    "mean1=np.mean(r[5])\n",
    "sd=np.std(r[5])\n",
    "\n",
    "import warnings\n",
    "warnings.filterwarnings('ignore')\n",
    "# Plot between -10 and 10 with .001 steps.\n",
    "import numpy as np\n",
    "import matplotlib.pyplot as plt\n",
    "from scipy.stats import norm\n",
    "import seaborn as sns\n",
    "\n",
    "# Plot between -10 and 10 with .001 steps.\n",
    "x_axis = np.random.normal(mean1, sd,10)\n",
    "# Mean = 0, SD = 2.\n",
    "sns.distplot(x_axis)\n",
    "\n",
    "## It is right skewed\n",
    "     "
   ]
  },
  {
   "cell_type": "code",
   "execution_count": 38,
   "id": "4cb7d127",
   "metadata": {},
   "outputs": [
    {
     "data": {
      "image/png": "[encoded data removed]",
      "text/plain": [
       "<Figure size 432x288 with 1 Axes>"
      ]
     },
     "metadata": {},
     "output_type": "display_data"
    }
   ],
   "source": [
    "import seaborn as sns\n",
    "sns.set_theme(style=\"whitegrid\")\n",
    "fig, ax = plt.subplots()\n",
    "ax.boxplot(r[1])\n",
    "plt.show()"
   ]
  },
  {
   "cell_type": "markdown",
   "id": "3ee2801e",
   "metadata": {},
   "source": [
    "**Effect on Mean, Median and Mode due to Skewness**\n",
    "\n",
    "Among the three measures of central tendancy mean is highly effected by the skewness.For distributions that has outliers we often choose median as a prefer tendency because median is more resistance than mean, that means that if the add anyt outliers in it then there will be a huge change in mean than median. If we see that the distribution is skewed to the left that means that the mean is less than median,which is often less than the mode. if the distribution is skewed to the right that means the mode is less than the median which is often less than the mean.\n",
    "\n",
    "**KURTOSIS**: It measures the thickness of the tail ends of a distribution in relation to the tails of a distribution. The normal distribution has a kurtosis equal to 3.0."
   ]
  },
  {
   "cell_type": "code",
   "execution_count": 39,
   "id": "af9c384a",
   "metadata": {},
   "outputs": [
    {
     "data": {
      "text/plain": [
       "0.018809857221827375"
      ]
     },
     "execution_count": 39,
     "metadata": {},
     "output_type": "execute_result"
    }
   ],
   "source": [
    "df_new['normal'].kurt()"
   ]
  },
  {
   "cell_type": "markdown",
   "id": "822ac72e",
   "metadata": {},
   "source": [
    "**QUANTILE-QUANTILE PLOT**: The quantile-quantile (q-q) plot is a graphical technique for determining if two data sets come from populations with a common distribution."
   ]
  },
  {
   "cell_type": "code",
   "execution_count": 40,
   "id": "3cc1310e",
   "metadata": {},
   "outputs": [
    {
     "data": {
      "image/png": "[encoded data removed]",
      "text/plain": [
       "<Figure size 432x288 with 1 Axes>"
      ]
     },
     "metadata": {},
     "output_type": "display_data"
    }
   ],
   "source": [
    "#Checking Normality with QQ Plot\n",
    "stats.probplot(df_new['uniform'], dist=\"norm\", plot=plt)\n",
    "plt.grid()"
   ]
  },
  {
   "cell_type": "code",
   "execution_count": 41,
   "id": "a9852517",
   "metadata": {},
   "outputs": [
    {
     "data": {
      "image/png": "[encoded data removed]",
      "text/plain": [
       "<Figure size 432x288 with 1 Axes>"
      ]
     },
     "metadata": {},
     "output_type": "display_data"
    }
   ],
   "source": [
    "stats.probplot(df_new['normal'], dist=\"norm\", plot=plt)\n",
    "plt.grid()"
   ]
  },
  {
   "cell_type": "code",
   "execution_count": 42,
   "id": "9a5add43",
   "metadata": {},
   "outputs": [
    {
     "data": {
      "image/png": "[encoded data removed]",
      "text/plain": [
       "<Figure size 432x288 with 1 Axes>"
      ]
     },
     "metadata": {},
     "output_type": "display_data"
    }
   ],
   "source": [
    "from scipy import stats\n",
    "stats.probplot(df['M_INCOME'], dist=\"norm\", plot=plt)\n",
    "plt.grid()"
   ]
  },
  {
   "cell_type": "markdown",
   "id": "cfddd4af",
   "metadata": {},
   "source": [
    "**BOX-COX TRANSFORMATION**:\n",
    "    \n",
    "It is a transformation of non-normal dependent variables into a normal shape. Normality is an important assumption for many statistical techniques; if your data isn’t normal, applying a Box-Cox means that you are able to run a broader number of tests."
   ]
  },
  {
   "cell_type": "code",
   "execution_count": 44,
   "id": "d55f38f3",
   "metadata": {},
   "outputs": [
    {
     "data": {
      "text/plain": [
       "<AxesSubplot:ylabel='Density'>"
      ]
     },
     "execution_count": 44,
     "metadata": {},
     "output_type": "execute_result"
    },
    {
     "data": {
      "image/png": "[encoded data removed]",
      "text/plain": [
       "<Figure size 432x288 with 1 Axes>"
      ]
     },
     "metadata": {},
     "output_type": "display_data"
    }
   ],
   "source": [
    "import numpy as np \n",
    "from scipy.stats import boxcox \n",
    "import seaborn as sns \n",
    "\n",
    "#set seed to 0\n",
    "np.random.seed(0)\n",
    "\n",
    "#generate dataset\n",
    "data = np.random.exponential(size=1000)\n",
    "\n",
    "#plot the distribution of data values\n",
    "sns.distplot(df, hist=False, kde=True) "
   ]
  },
  {
   "cell_type": "code",
   "execution_count": 45,
   "id": "0886ba67",
   "metadata": {},
   "outputs": [
    {
     "data": {
      "text/plain": [
       "<AxesSubplot:ylabel='Density'>"
      ]
     },
     "execution_count": 45,
     "metadata": {},
     "output_type": "execute_result"
    },
    {
     "data": {
      "image/png": "[encoded data removed]",
      "text/plain": [
       "<Figure size 432x288 with 1 Axes>"
      ]
     },
     "metadata": {},
     "output_type": "display_data"
    }
   ],
   "source": [
    "#Box - Cox Transformation\n",
    "pareto_rv = np.random.pareto(a = 2, size = 1000)\n",
    "sns.distplot(pareto_rv)"
   ]
  },
  {
   "cell_type": "code",
   "execution_count": 46,
   "id": "a7a91697",
   "metadata": {},
   "outputs": [
    {
     "data": {
      "image/png": "[encoded data removed]",
      "text/plain": [
       "<Figure size 432x288 with 1 Axes>"
      ]
     },
     "metadata": {},
     "output_type": "display_data"
    }
   ],
   "source": [
    "# Normality Test\n",
    "stats.probplot(pareto_rv, dist=\"norm\", plot=plt)\n",
    "plt.grid()"
   ]
  },
  {
   "cell_type": "code",
   "execution_count": 47,
   "id": "dfe7ee7d",
   "metadata": {},
   "outputs": [
    {
     "name": "stdout",
     "output_type": "stream",
     "text": [
      "0.1029718461200815\n"
     ]
    }
   ],
   "source": [
    "# x_t = tranformed by box-cox, l = Lambda\n",
    "x_t, l = stats.boxcox(pareto_rv)\n",
    "print(l)"
   ]
  },
  {
   "cell_type": "code",
   "execution_count": 48,
   "id": "69b78c8f",
   "metadata": {},
   "outputs": [
    {
     "data": {
      "image/png": "[encoded data removed]",
      "text/plain": [
       "<Figure size 432x288 with 1 Axes>"
      ]
     },
     "metadata": {},
     "output_type": "display_data"
    }
   ],
   "source": [
    "stats.probplot(x_t, dist=\"norm\", plot=plt)\n",
    "plt.grid()"
   ]
  },
  {
   "cell_type": "code",
   "execution_count": null,
   "id": "ec657aa8",
   "metadata": {},
   "outputs": [],
   "source": []
  }
 ],
 "metadata": {
  "kernelspec": {
   "display_name": "Python 3 (ipykernel)",
   "language": "python",
   "name": "python3"
  },
  "language_info": {
   "codemirror_mode": {
    "name": "ipython",
    "version": 3
   },
   "file_extension": ".py",
   "mimetype": "text/x-python",
   "name": "python",
   "nbconvert_exporter": "python",
   "pygments_lexer": "ipython3",
   "version": "3.9.7"
  }
 },
 "nbformat": 4,
 "nbformat_minor": 5
}
